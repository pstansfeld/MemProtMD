{
  "nbformat": 4,
  "nbformat_minor": 0,
  "metadata": {
    "colab": {
      "provenance": [],
      "include_colab_link": true
    },
    "kernelspec": {
      "name": "python3",
      "display_name": "Python 3"
    },
    "language_info": {
      "name": "python"
    }
  },
  "cells": [
    {
      "cell_type": "markdown",
      "metadata": {
        "id": "view-in-github",
        "colab_type": "text"
      },
      "source": [
        "<a href=\"https://colab.research.google.com/github/pstansfeld/MemProtMD/blob/main/AF2_ESM_Fold_Fix.ipynb\" target=\"_parent\"><img src=\"https://colab.research.google.com/assets/colab-badge.svg\" alt=\"Open In Colab\"/></a>"
      ]
    },
    {
      "cell_type": "markdown",
      "source": [
        "<img src=\"https://github.com/pstansfeld/MemProtMD/raw/main/mr-membrane-protein.png\" height=\"200\" align=\"right\" style=\"height:240px\">\n",
        "\n",
        "##Clean an AlphaFold2 or ESMFold protein structure for use with MemProtMD\n",
        "\n",
        "This Notebook uses [PDB2PQR](https://onlinelibrary.wiley.com/doi/10.1002/pro.3280), [available here](https://github.com/Electrostatics/pdb2pqr), followed by energy minimisation using [GROMACS](https://doi.org/10.1016/j.softx.2015.06.001).\n",
        "\n"
      ],
      "metadata": {
        "id": "n_psEm5Ord4L"
      }
    },
    {
      "cell_type": "code",
      "source": [
        "#@title Initialisation\n",
        "%%capture\n",
        "!python3 -m pip install py3dmol\n",
        "!apt-get update\n",
        "!apt-get upgrade\n",
        "!apt-get install gzip\n",
        "!apt-get install pymol\n",
        "File_Location = \"ESMFold Sequence\" #@param [\"Upload\",\"AFDB\",\"ESMFold Sequence\"]\n",
        "\n",
        "#@markdown ---\n",
        "#@markdown #### AlphaFold database:\n",
        "UniProtID = \"P00804\" #@param {type:\"string\"}\n",
        "#@markdown ---\n",
        "#@markdown ##### ESMFold:\n",
        "Sequence_name = 'LspA' #@param {type:\"string\"}\n",
        "Method = 'ESMfold' \n",
        "Sequence = 'MSQSICSTGLRWLWLVVVVLIIDLGSKYLILQNFALGDTVPLFPSLNLHYARNYGAAFSFLADSGGWQRWFFAGIAIGISVILAVMMYRSKATQKLNNIAYALIIGGALGNLFDRLWHGFVVDMIDFYVGDWHFATFNLADTAICVGAALIVLEGFLPSRAKKQ' #@param {type:\"string\"}"
      ],
      "metadata": {
        "cellView": "form",
        "id": "h_4e3fU20fF_"
      },
      "execution_count": null,
      "outputs": []
    },
    {
      "cell_type": "code",
      "source": [
        "#@title Get PDB coordinate file\n",
        "import os\n",
        "import sys\n",
        "import requests\n",
        "import py3Dmol\n",
        "from google.colab import files\n",
        "sys.path.append('/usr/local/lib/python3.7/site-packages/')\n",
        "\n",
        "os.chdir('/content/')\n",
        "\n",
        "if File_Location == \"Upload\":\n",
        "  upload = files.upload()\n",
        "  filename = next(iter(upload))\n",
        "elif File_Location == \"AFDB\":\n",
        "  name = str(UniProtID.upper())\n",
        "  os.system('wget https://alphafold.ebi.ac.uk/files/AF-' + name + '-F1-model_v4.pdb')\n",
        "  filename = name + '.pdb'\n",
        "  os.rename('AF-' + name + '-F1-model_v4.pdb',filename)\n",
        "elif File_Location == \"Sequence\":\n",
        "  name = Sequence_name  \n",
        "  if Method == \"Helix\":  \n",
        "    with open('helix.pml','w') as pml:\n",
        "      pml.write('set retain_order,0\\nset secondary_structure,1\\nfor aa in \"'+ Sequence +'\": cmd._alt(str.upper(aa))\\nsave '+Sequence_name+'.pdb')\n",
        "      !pymol -cq helix.pml\n",
        "  elif Method == \"ESMfold\":  \n",
        "    esmfold_api_url = 'https://api.esmatlas.com/foldSequence/v1/pdb/'\n",
        "    r = requests.post(esmfold_api_url, data=Sequence)\n",
        "    structure = r.text\n",
        "    with open(\"./\"+name+\".pdb\", 'w') as pdb_file:\n",
        "      pdb_file.write(structure)\n",
        "  filename = name + '.pdb'\n",
        "\n",
        "name = os.path.splitext(filename)[0]\n",
        "working_dir = '/content/' + name + '/'\n",
        "os.makedirs(working_dir, exist_ok=True)\n",
        "os.rename(filename, working_dir + name + '.pdb')\n",
        "os.chdir(working_dir)\n",
        "mol1 = open(working_dir + filename, 'r').read()\n",
        "mview = py3Dmol.view(width=800,height=400) \n",
        "mview.addModel(mol1,'pdb')\n",
        "mview.setStyle({'cartoon':{'color':'spectrum'}})\n",
        "mview.setStyle({'resn':'DUM'},{'sphere':{}})\n",
        "mview.setBackgroundColor('0xffffff')\n",
        "mview.zoomTo()\n",
        "mview.show()\n"
      ],
      "metadata": {
        "cellView": "form",
        "id": "oGyyV6RAmdj6"
      },
      "execution_count": null,
      "outputs": []
    },
    {
      "cell_type": "code",
      "execution_count": null,
      "metadata": {
        "id": "R4V0uY9LiZO4",
        "cellView": "form"
      },
      "outputs": [],
      "source": [
        "#@title Install dependencies\n",
        "%%capture\n",
        "\n",
        "os.chdir('/content/')\n",
        "\n",
        "if not os.path.isdir(\"/content/content/gromacs/\"):\n",
        "  !apt-get update -y\n",
        "  !python3 -m pip install pdb2pqr\n",
        "  !python3 -m pip install gromacswrapper==0.8.3\n",
        "  !python3 -m pip install MDAnalysis \n",
        "  !python3 -m pip install py3dmol\n",
        "  !wget https://raw.githubusercontent.com/pstansfeld/MemProtMD/master/gromacs.zip\n",
        "  !unzip -o gromacs.zip\n",
        "  %mv /content/usr/local/gromacs/ /usr/local/\n",
        "  !ln -s /usr/local/gromacs/bin/gmx /usr/bin/gmx\n",
        "  !ln -s /content/content/gromacs/bin/gmx_d /usr/bin/gmx_d\n",
        "\n",
        "import gromacs\n",
        "import MDAnalysis\n",
        "import py3Dmol\n",
        "import glob\n",
        "import shutil"
      ]
    },
    {
      "cell_type": "code",
      "source": [
        "#@title Energy Minimise\n",
        "%%capture\n",
        "os.chdir(working_dir)\n",
        "\n",
        "if not os.path.exists('temp'):\n",
        "\tos.makedirs('temp')\n",
        "os.chdir('temp')\n",
        "\n",
        "print(\"Assessing \"+filename+\"\\n\")\n",
        "\n",
        "os.system('pdb2pqr30 --ff CHARMM  --keep-chain '+ working_dir + filename + ' pqr.pdb')\n",
        "\n",
        "gromacs.pdb2gmx(f='pqr.pdb',ignh=True,ff='charmm27',water='tip3p',o='conf.pdb')\n",
        "\n",
        "gromacs.editconf(f='conf.pdb',d=8,c=True,o='conf.pdb')\n",
        "\n",
        "with open('em.mdp','w') as em:\n",
        "            em.write('integrator = steep\\nnsteps = 5000\\nemtol = 100\\nemstep = 0.001')\n",
        "\n",
        "gromacs.grompp(f='em.mdp',maxwarn=5,o='em',c='conf.pdb')\n",
        "\n",
        "gromacs.mdrun(deffnm='em',c='clean.pdb')\n",
        "\n",
        "gromacs.trjconv(f='clean.pdb',o=working_dir + 'fixed-'+filename,s='em.tpr',input=('system'))\n",
        "\n",
        "os.chdir('..')\n",
        "\n",
        "shutil.rmtree('temp', ignore_errors=True)"
      ],
      "metadata": {
        "cellView": "form",
        "id": "IRYAZsFrtOnG"
      },
      "execution_count": null,
      "outputs": []
    },
    {
      "cell_type": "code",
      "source": [
        "#@title Download\n",
        "mview = py3Dmol.view(width=800,height=400)  \n",
        "mol1 = open(working_dir + 'fixed-'+filename, 'r').read()\n",
        "mview.addModel(mol1,'pdb')\n",
        "mview.setStyle({'cartoon':{'color':'spectrum'}})\n",
        "mview.setStyle({'atom':'P'},{'sphere':{}})\n",
        "mview.setBackgroundColor('0xffffff')\n",
        "mview.zoomTo()\n",
        "mview.show()\n",
        "files.download(working_dir + 'fixed-'+filename)"
      ],
      "metadata": {
        "cellView": "form",
        "id": "St2ZS61ovjbA"
      },
      "execution_count": null,
      "outputs": []
    }
  ]
}
