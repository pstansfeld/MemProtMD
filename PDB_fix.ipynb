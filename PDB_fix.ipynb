{
  "nbformat": 4,
  "nbformat_minor": 0,
  "metadata": {
    "colab": {
      "provenance": [],
      "include_colab_link": true
    },
    "kernelspec": {
      "name": "python3",
      "display_name": "Python 3"
    },
    "language_info": {
      "name": "python"
    }
  },
  "cells": [
    {
      "cell_type": "markdown",
      "metadata": {
        "id": "view-in-github",
        "colab_type": "text"
      },
      "source": [
        "<a href=\"https://colab.research.google.com/github/pstansfeld/MemProtMD/blob/main/PDB_fix.ipynb\" target=\"_parent\"><img src=\"https://colab.research.google.com/assets/colab-badge.svg\" alt=\"Open In Colab\"/></a>"
      ]
    },
    {
      "cell_type": "markdown",
      "source": [
        "<img src=\"https://github.com/pstansfeld/MemProtMD/raw/main/mr-membrane-protein.png\" height=\"200\" align=\"right\" style=\"height:240px\">\n",
        "\n",
        "##Clean a protein structure for use with MemProtMD\n",
        "\n",
        "This Notebook uses [PDB2PQR](https://onlinelibrary.wiley.com/doi/10.1002/pro.3280), [available here](https://github.com/Electrostatics/pdb2pqr), followed by energy minimisation using [GROMACS](https://doi.org/10.1016/j.softx.2015.06.001).\n",
        "\n"
      ],
      "metadata": {
        "id": "n_psEm5Ord4L"
      }
    },
    {
      "cell_type": "code",
      "source": [
        "#@title Upload a PDB coordinate file\n",
        "import os\n",
        "import sys\n",
        "from google.colab import files\n",
        "\n",
        "sys.path.append(\"/usr/local/lib/python3.7/site-packages/\")\n",
        "os.chdir(\"/content/\")\n",
        "\n",
        "uploaded_files = files.upload()\n",
        "filename = list(uploaded_files.keys())[0]\n",
        "name, ext = os.path.splitext(filename)\n",
        "working_dir = f\"/content/{name}/\"\n",
        "os.makedirs(working_dir, exist_ok=True)\n",
        "os.rename(filename, working_dir + filename)"
      ],
      "metadata": {
        "id": "oGyyV6RAmdj6",
        "cellView": "form"
      },
      "execution_count": null,
      "outputs": []
    },
    {
      "cell_type": "code",
      "execution_count": null,
      "metadata": {
        "id": "R4V0uY9LiZO4",
        "cellView": "form"
      },
      "outputs": [],
      "source": [
        "#@title Install dependencies\n",
        "%%capture\n",
        "os.chdir('/content/')\n",
        "if not os.path.isdir(\"/usr/local/gromacs/bin/\"):\n",
        "\n",
        "    !pip install pdb2pqr gromacswrapper==0.8.3 MDAnalysis py3dmol\n",
        "    !wget https://github.com/pstansfeld/MemProtMD/raw/main/gromacs.zip\n",
        "    !unzip -o gromacs.zip\n",
        "    %mv /content/usr/local/gromacs/ /usr/local/\n",
        "    !ln -s /usr/local/gromacs/bin/gmx /usr/bin/gmx\n",
        "    !ln -s /usr/local/gromacs/bin/gmx_d /usr/bin/gmx_d\n",
        "\n",
        "import gromacs\n",
        "import MDAnalysis\n",
        "import glob\n",
        "import shutil\n",
        "import py3Dmol\n",
        "from gromacs import pdb2gmx, editconf, grompp, mdrun, trjconv\n",
        "\n",
        "def py3dmol_view(pdbfilename, working_dir):\n",
        "    mview = py3Dmol.view(width=800, height=400)\n",
        "    with open(working_dir + pdbfilename, \"r\") as f:\n",
        "        mol1 = f.read()\n",
        "    mview.addModel(mol1, \"pdb\")\n",
        "    mview.setStyle({\"cartoon\": {\"color\": \"spectrum\"}})\n",
        "    mview.setBackgroundColor(\"0xffffff\")\n",
        "    mview.zoomTo()\n",
        "    mview.show()\n",
        "\n",
        "def energy_minimize(filename, working_dir):\n",
        "    os.chdir(working_dir)\n",
        "    if not os.path.exists(\"temp\"):\n",
        "        os.makedirs(\"temp\")\n",
        "    os.chdir(\"temp\")\n",
        "    os.system(f\"pdb2pqr30 --ff CHARMM --keep-chain {working_dir + filename} pqr.pdb\")\n",
        "\n",
        "    pdb2gmx(f=\"pqr.pdb\", ignh=True, ff=\"charmm27\", water=\"tip3p\", o=\"conf.pdb\")\n",
        "    editconf(f=\"conf.pdb\", d=8, c=True, o=\"conf.pdb\")\n",
        "\n",
        "    with open(\"em.mdp\", \"w\") as em:\n",
        "        em.write(\"integrator = steep\\nnsteps = 5000\\nemtol = 100\\nemstep = 0.001\")\n",
        "\n",
        "    grompp(f=\"em.mdp\", maxwarn=5, o=\"em\", c=\"conf.pdb\")\n",
        "    mdrun(deffnm=\"em\", c=\"clean.pdb\")\n",
        "\n",
        "    trjconv(f=\"clean.pdb\", o=working_dir + f\"fixed-{filename}\", s=\"em.tpr\", input=(\"system\"))\n",
        "\n",
        "    os.chdir(\"..\")\n",
        "    shutil.rmtree(\"temp\", ignore_errors=True)"
      ]
    },
    {
      "cell_type": "code",
      "source": [
        "#@title View Input\n",
        "py3dmol_view(filename, working_dir)"
      ],
      "metadata": {
        "id": "-DQK89FBvfJa",
        "cellView": "form"
      },
      "execution_count": null,
      "outputs": []
    },
    {
      "cell_type": "code",
      "source": [
        "#@title Energy Minimise\n",
        "%%capture\n",
        "energy_minimize(filename, working_dir)"
      ],
      "metadata": {
        "id": "IRYAZsFrtOnG",
        "cellView": "form"
      },
      "execution_count": null,
      "outputs": []
    },
    {
      "cell_type": "code",
      "source": [
        "#@title View & Download\n",
        "py3dmol_view(f'fixed-{filename}', working_dir)\n",
        "files.download(working_dir + f'fixed-{filename}')"
      ],
      "metadata": {
        "id": "St2ZS61ovjbA",
        "cellView": "form"
      },
      "execution_count": null,
      "outputs": []
    }
  ]
}