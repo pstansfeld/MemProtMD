{
  "nbformat": 4,
  "nbformat_minor": 0,
  "metadata": {
    "accelerator": "GPU",
    "colab": {
      "provenance": [],
      "include_colab_link": true
    },
    "kernelspec": {
      "display_name": "Python 3",
      "name": "python3"
    },
    "language_info": {
      "name": "python"
    },
    "gpuClass": "standard"
  },
  "cells": [
    {
      "cell_type": "markdown",
      "metadata": {
        "id": "view-in-github",
        "colab_type": "text"
      },
      "source": [
        "<a href=\"https://colab.research.google.com/github/pstansfeld/MemProtMD/blob/main/Molecular_Modelling_Lecture1.ipynb\" target=\"_parent\"><img src=\"https://colab.research.google.com/assets/colab-badge.svg\" alt=\"Open In Colab\"/></a>"
      ]
    },
    {
      "cell_type": "markdown",
      "source": [
        "<img src=\"https://github.com/pstansfeld/MemProtMD/raw/main/mr-membrane-protein.png\" height=\"200\" align=\"right\" style=\"height:240px\">\n",
        "\n",
        "##Setting up a Simulation\n",
        "\n",
        "This set-up uses [CHARMM36m](http://mackerell.umaryland.edu/charmm_ff.shtml#gromacs).\n",
        "\n",
        "Change the settings below and click **Runtime → Run all**.\n",
        "\n",
        "You will be prompted to enter a RCSB [PDB](http://rcsb.org) ID structure file to set-up for simulation."
      ],
      "metadata": {
        "id": "RkInnWIVYZY7"
      }
    },
    {
      "cell_type": "code",
      "source": [
        "#@title Initialisation\n",
        "%%capture\n",
        "!pip install py3dmol\n",
        "!apt-get update && apt-get upgrade -y && apt-get install -y gzip pymol dssp\n",
        "File_Location = \"RCSB PDB\" #@param [\"Upload\",\"RCSB PDB\",\"AFDB\",\"Swiss-Model\",\"Sequence\"]\n",
        "PDB_ID = \"1AKI\" #@param {type:\"string\"}\n"
      ],
      "metadata": {
        "id": "8LPTSY05MGgR",
        "cellView": "form"
      },
      "execution_count": null,
      "outputs": []
    },
    {
      "cell_type": "code",
      "metadata": {
        "id": "BkK_LOnW1_z_",
        "cellView": "form"
      },
      "source": [
        "#@title Get PDB coordinate file\n",
        "import os\n",
        "import sys\n",
        "import requests\n",
        "import py3Dmol\n",
        "from google.colab import files\n",
        "\n",
        "sys.path.append('/usr/local/lib/python3.7/site-packages/')\n",
        "\n",
        "os.chdir('/content/')\n",
        "\n",
        "if File_Location == \"RCSB PDB\":\n",
        "    name = str(PDB_ID.lower())\n",
        "    os.system('wget http://www.rcsb.org/pdb/files/' + name + '.pdb1.gz')\n",
        "    os.system('gunzip ' + name + '.pdb1.gz')\n",
        "    filename = name + '.pdb'\n",
        "    os.system('egrep -v \"MODEL|ENDMDL|HOH|SOL\" '+ name + '.pdb1 >'+ filename)\n",
        "    name = os.path.splitext(filename)[0]\n",
        "    working_dir = '/content/' + name + '/'\n",
        "    files = os.listdir(working_dir)\n",
        "    for file in files:\n",
        "      file_path = os.path.join(working_dir, file)\n",
        "      if os.path.isfile(file_path):\n",
        "        os.remove(file_path)\n",
        "    os.makedirs(working_dir, exist_ok=True)\n",
        "    os.rename(filename, working_dir + name + '.pdb')\n",
        "    os.chdir(working_dir)\n",
        "    py3dmol_view(filename, working_dir)\n",
        "\n",
        "def py3dmol_view(pdbfilename, working_dir):\n",
        "    mview = py3Dmol.view(width=800, height=400)\n",
        "    with open(working_dir + pdbfilename, \"r\") as f:\n",
        "        mol1 = f.read()\n",
        "    mview.addModel(mol1, \"pdb\")\n",
        "    mview.setStyle({\"cartoon\": {\"color\": \"spectrum\"}})\n",
        "    mview.setStyle({'atom': 'NA'}, {'sphere': {\"color\": \"blue\"}})\n",
        "    mview.setStyle({'atom': 'CL'}, {'sphere': {\"color\": \"yellow\"}})\n",
        "    mview.setStyle({'resn': 'SOL'}, {'sphere': {\"radius\": 0.3,\"color\": \"red\"}})\n",
        "    mview.setBackgroundColor(\"0xffffff\")\n",
        "    mview.zoomTo()\n",
        "    mview.addUnitCell()\n",
        "    mview.show()\n",
        "\n",
        "def energy_minimize(filename, working_dir):\n",
        "    os.system(f\"pdb2pqr30 --ff CHARMM --keep-chain {working_dir + filename} pqr.pdb\")\n",
        "\n",
        "    pdb2gmx(f=\"pqr.pdb\", ignh=True, ff=\"charmm27\", water=\"tip3p\", o=\"conf.pdb\")\n",
        "    editconf(f=\"conf.pdb\", d=2, c=True, o=\"conf.pdb\")\n",
        "\n",
        "    with open(\"em.mdp\", \"w\") as em:\n",
        "        em.write(\"integrator = steep\\nnsteps = 5000\\nemtol = 100\\nemstep = 0.001\")\n",
        "\n",
        "    grompp(f=\"em.mdp\", maxwarn=5, o=\"em\", c=\"conf.pdb\")\n",
        "    mdrun(deffnm=\"em\", c=\"clean.pdb\")\n",
        "\n",
        "    trjconv(f=\"clean.pdb\", o=working_dir + f\"fixed-{filename}\", s=\"em.tpr\", input=(\"system\"))"
      ],
      "execution_count": null,
      "outputs": []
    },
    {
      "cell_type": "code",
      "metadata": {
        "id": "oUrop2BIbeO3",
        "cellView": "form"
      },
      "source": [
        "#@title Install dependencies\n",
        "%%capture\n",
        "os.chdir('/content/')\n",
        "if not os.path.isdir(\"/content/content/gromacs\"):\n",
        "  !pip install pdb2pqr gromacswrapper==0.8.3 MDAnalysis wget\n",
        "  !wget https://github.com/pstansfeld/MemProtMD/raw/main/gromacs.zip\n",
        "  !unzip -o gromacs.zip\n",
        "  %mv /content/usr/local/gromacs/ /usr/local/\n",
        "  !ln -s /usr/local/gromacs/bin/gmx /usr/bin/gmx\n",
        "\n",
        "import gromacs\n",
        "import MDAnalysis\n",
        "import glob\n",
        "import shutil\n",
        "import subprocess\n",
        "import wget\n",
        "import pandas as pd\n",
        "from gromacs import grompp, editconf, make_ndx, trjconv, confrms, pdb2gmx, mdrun, solvate, genion"
      ],
      "execution_count": null,
      "outputs": []
    },
    {
      "cell_type": "code",
      "source": [
        "#@title Set-up Periodic Unit Cell & Energy Minimise Input Structure\n",
        "os.chdir(working_dir)\n",
        "energy_minimize(filename, working_dir)\n",
        "py3dmol_view(f\"fixed-{filename}\", working_dir)"
      ],
      "metadata": {
        "id": "IRYAZsFrtOnG",
        "cellView": "form"
      },
      "execution_count": null,
      "outputs": []
    },
    {
      "cell_type": "code",
      "source": [
        "#@title Fill the box with Water\n",
        "os.chdir(working_dir)\n",
        "solvate(cp=f\"fixed-{filename}\", cs=True, o=f\"solated-{filename}\", p=\"topol.top\")\n",
        "py3dmol_view(f\"solated-{filename}\", working_dir)"
      ],
      "metadata": {
        "cellView": "form",
        "id": "OGPW_j2-Vm_Q"
      },
      "execution_count": null,
      "outputs": []
    },
    {
      "cell_type": "code",
      "source": [
        "#@title Neutralise the system\n",
        "os.chdir(working_dir)\n",
        "grompp(f='em.mdp', c=f\"solated-{filename}\", o=f\"counter.tpr\")\n",
        "genion(s='counter.tpr', o=\"System.pdb\", p=\"topol.top\", neutral=True, conc=0.2,input=str(13),backup=False)\n",
        "py3dmol_view(f'System.pdb', working_dir)"
      ],
      "metadata": {
        "cellView": "form",
        "id": "1nu9P1O2XGSq"
      },
      "execution_count": null,
      "outputs": []
    }
  ]
}
